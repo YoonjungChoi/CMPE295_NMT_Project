{
 "cells": [
  {
   "cell_type": "code",
   "execution_count": 1,
   "id": "dbe22287-6056-413b-ab46-315d6724b378",
   "metadata": {
    "tags": []
   },
   "outputs": [
    {
     "name": "stdout",
     "output_type": "stream",
     "text": [
      "# conda environments:\n",
      "#\n",
      "VAdepthENV               /home/013907062/.conda/envs/VAdepthENV\n",
      "cmpe249                  /home/013907062/.conda/envs/cmpe249\n",
      "env_onmttf               /home/013907062/.conda/envs/env_onmttf\n",
      "hawaii                   /home/013907062/.conda/envs/hawaii\n",
      "hawaii_hf                /home/013907062/.conda/envs/hawaii_hf\n",
      "koen_base                /home/013907062/.conda/envs/koen_base\n",
      "newDepth                 /home/013907062/.conda/envs/newDepth\n",
      "seamless                 /home/013907062/.conda/envs/seamless\n",
      "test                     /home/013907062/.conda/envs/test\n",
      "wmt_infer             *  /home/013907062/.conda/envs/wmt_infer\n",
      "base                     /opt/ohpc/pub/apps/anaconda/3.9\n",
      "stylegan2                /opt/ohpc/pub/apps/anaconda/3.9/envs/stylegan2\n",
      "\n"
     ]
    }
   ],
   "source": [
    "!conda env list"
   ]
  },
  {
   "cell_type": "code",
   "execution_count": 2,
   "id": "7f776275-9d3e-4e7b-ab6b-ef80bda9afa3",
   "metadata": {
    "tags": []
   },
   "outputs": [
    {
     "name": "stderr",
     "output_type": "stream",
     "text": [
      "/home/013907062/.conda/envs/wmt_infer/lib/python3.10/site-packages/tqdm/auto.py:22: TqdmWarning: IProgress not found. Please update jupyter and ipywidgets. See https://ipywidgets.readthedocs.io/en/stable/user_install.html\n",
      "  from .autonotebook import tqdm as notebook_tqdm\n"
     ]
    }
   ],
   "source": [
    "import pandas as pd\n",
    "import numpy as np\n",
    "import multiprocessing\n",
    "from easydict import EasyDict\n",
    "import yaml\n",
    "from datasets import load_dataset, load_metric, Dataset\n",
    "\n",
    "from transformers import AutoTokenizer, AutoModelForSeq2SeqLM, DataCollatorForSeq2Seq\n",
    "from transformers import Seq2SeqTrainingArguments, Seq2SeqTrainer"
   ]
  },
  {
   "cell_type": "markdown",
   "id": "66426d73-c56c-43ee-90e9-f3da9bc44b6d",
   "metadata": {
    "jp-MarkdownHeadingCollapsed": true,
    "tags": []
   },
   "source": [
    "# DATA"
   ]
  },
  {
   "cell_type": "code",
   "execution_count": 80,
   "id": "7b824fd6-693e-460f-8027-0aba592185a6",
   "metadata": {
    "tags": []
   },
   "outputs": [
    {
     "data": {
      "text/html": [
       "<div>\n",
       "<style scoped>\n",
       "    .dataframe tbody tr th:only-of-type {\n",
       "        vertical-align: middle;\n",
       "    }\n",
       "\n",
       "    .dataframe tbody tr th {\n",
       "        vertical-align: top;\n",
       "    }\n",
       "\n",
       "    .dataframe thead th {\n",
       "        text-align: right;\n",
       "    }\n",
       "</style>\n",
       "<table border=\"1\" class=\"dataframe\">\n",
       "  <thead>\n",
       "    <tr style=\"text-align: right;\">\n",
       "      <th></th>\n",
       "      <th>Idioms</th>\n",
       "      <th>en</th>\n",
       "      <th>ko</th>\n",
       "    </tr>\n",
       "  </thead>\n",
       "  <tbody>\n",
       "    <tr>\n",
       "      <th>0</th>\n",
       "      <td>No buts.</td>\n",
       "      <td>You're grounded. No buts.</td>\n",
       "      <td>외출금지니까 토 달지마.</td>\n",
       "    </tr>\n",
       "    <tr>\n",
       "      <th>1</th>\n",
       "      <td>NaN</td>\n",
       "      <td>Finish your meal. No buts.</td>\n",
       "      <td>잔말말고 다 먹어.</td>\n",
       "    </tr>\n",
       "    <tr>\n",
       "      <th>2</th>\n",
       "      <td>NaN</td>\n",
       "      <td>Do your homework. No buts.</td>\n",
       "      <td>어서가서 숙제해. 예외는 없는 거야.</td>\n",
       "    </tr>\n",
       "    <tr>\n",
       "      <th>3</th>\n",
       "      <td>NaN</td>\n",
       "      <td>No buts!</td>\n",
       "      <td>토 달지 말고!</td>\n",
       "    </tr>\n",
       "    <tr>\n",
       "      <th>4</th>\n",
       "      <td>NaN</td>\n",
       "      <td>Clean your room. No buts.</td>\n",
       "      <td>청소해. 토 달지 말고.</td>\n",
       "    </tr>\n",
       "  </tbody>\n",
       "</table>\n",
       "</div>"
      ],
      "text/plain": [
       "     Idioms                          en                    ko\n",
       "0  No buts.   You're grounded. No buts.         외출금지니까 토 달지마.\n",
       "1       NaN  Finish your meal. No buts.            잔말말고 다 먹어.\n",
       "2       NaN  Do your homework. No buts.  어서가서 숙제해. 예외는 없는 거야.\n",
       "3       NaN                    No buts!              토 달지 말고!\n",
       "4       NaN   Clean your room. No buts.         청소해. 토 달지 말고."
      ]
     },
     "metadata": {},
     "output_type": "display_data"
    },
    {
     "name": "stdout",
     "output_type": "stream",
     "text": [
      "<class 'pandas.core.frame.DataFrame'>\n",
      "RangeIndex: 2444 entries, 0 to 2443\n",
      "Data columns (total 3 columns):\n",
      " #   Column  Non-Null Count  Dtype \n",
      "---  ------  --------------  ----- \n",
      " 0   Idioms  36 non-null     object\n",
      " 1   en      2444 non-null   object\n",
      " 2   ko      2444 non-null   object\n",
      "dtypes: object(3)\n",
      "memory usage: 57.4+ KB\n"
     ]
    },
    {
     "data": {
      "text/plain": [
       "[]"
      ]
     },
     "execution_count": 80,
     "metadata": {},
     "output_type": "execute_result"
    }
   ],
   "source": [
    "# dataset\n",
    "raw_train_1 = pd.read_csv(\"data_train_1.csv\")\n",
    "display(raw_train_1.head())\n",
    "raw_train_1.info()\n",
    "raw_train_1[raw_train_1['ko'].isnull()].index.tolist()"
   ]
  },
  {
   "cell_type": "code",
   "execution_count": 81,
   "id": "e8149dc6-05dc-4912-ab96-ae43a690d260",
   "metadata": {
    "tags": []
   },
   "outputs": [
    {
     "data": {
      "text/html": [
       "<div>\n",
       "<style scoped>\n",
       "    .dataframe tbody tr th:only-of-type {\n",
       "        vertical-align: middle;\n",
       "    }\n",
       "\n",
       "    .dataframe tbody tr th {\n",
       "        vertical-align: top;\n",
       "    }\n",
       "\n",
       "    .dataframe thead th {\n",
       "        text-align: right;\n",
       "    }\n",
       "</style>\n",
       "<table border=\"1\" class=\"dataframe\">\n",
       "  <thead>\n",
       "    <tr style=\"text-align: right;\">\n",
       "      <th></th>\n",
       "      <th>Idioms</th>\n",
       "      <th>en</th>\n",
       "      <th>ko</th>\n",
       "    </tr>\n",
       "  </thead>\n",
       "  <tbody>\n",
       "    <tr>\n",
       "      <th>0</th>\n",
       "      <td>A bad break</td>\n",
       "      <td>Tony has lost his job, just when he needed the...</td>\n",
       "      <td>Tony는 집을 이사하기 위해 현금이 필요할 때 직장을 잃었습니다. 그것은 운이 나...</td>\n",
       "    </tr>\n",
       "    <tr>\n",
       "      <th>1</th>\n",
       "      <td>NaN</td>\n",
       "      <td>Tanya’s leg was crushed when the rock fell on ...</td>\n",
       "      <td>Tanya의 다리는 바위가 떨어지자 부서졌습니다. 의사는 정말 운이 나빴다고 말했습니다.</td>\n",
       "    </tr>\n",
       "    <tr>\n",
       "      <th>2</th>\n",
       "      <td>NaN</td>\n",
       "      <td>Some may say that I have been given a bad brea...</td>\n",
       "      <td>누군가는 내가 삶에서 불운을 받아왔다고 말할지도 모릅니다.</td>\n",
       "    </tr>\n",
       "    <tr>\n",
       "      <th>3</th>\n",
       "      <td>A bad hair day</td>\n",
       "      <td>Do we talk about a bad hair day? In my case, I...</td>\n",
       "      <td>일진이 사나운 날에 대해서 얘기해 볼까요? 저 같은 경우는 버스를 놓쳐서 사장님이 ...</td>\n",
       "    </tr>\n",
       "    <tr>\n",
       "      <th>4</th>\n",
       "      <td>NaN</td>\n",
       "      <td>It's a bad hair day!</td>\n",
       "      <td>오늘 정말 일진이 안 좋네!</td>\n",
       "    </tr>\n",
       "  </tbody>\n",
       "</table>\n",
       "</div>"
      ],
      "text/plain": [
       "           Idioms                                                 en   \n",
       "0     A bad break  Tony has lost his job, just when he needed the...  \\\n",
       "1             NaN  Tanya’s leg was crushed when the rock fell on ...   \n",
       "2             NaN  Some may say that I have been given a bad brea...   \n",
       "3  A bad hair day  Do we talk about a bad hair day? In my case, I...   \n",
       "4             NaN                               It's a bad hair day!   \n",
       "\n",
       "                                                  ko  \n",
       "0  Tony는 집을 이사하기 위해 현금이 필요할 때 직장을 잃었습니다. 그것은 운이 나...  \n",
       "1  Tanya의 다리는 바위가 떨어지자 부서졌습니다. 의사는 정말 운이 나빴다고 말했습니다.  \n",
       "2                   누군가는 내가 삶에서 불운을 받아왔다고 말할지도 모릅니다.  \n",
       "3  일진이 사나운 날에 대해서 얘기해 볼까요? 저 같은 경우는 버스를 놓쳐서 사장님이 ...  \n",
       "4                                    오늘 정말 일진이 안 좋네!  "
      ]
     },
     "metadata": {},
     "output_type": "display_data"
    },
    {
     "name": "stdout",
     "output_type": "stream",
     "text": [
      "<class 'pandas.core.frame.DataFrame'>\n",
      "RangeIndex: 791 entries, 0 to 790\n",
      "Data columns (total 3 columns):\n",
      " #   Column  Non-Null Count  Dtype \n",
      "---  ------  --------------  ----- \n",
      " 0   Idioms  196 non-null    object\n",
      " 1   en      791 non-null    object\n",
      " 2   ko      791 non-null    object\n",
      "dtypes: object(3)\n",
      "memory usage: 18.7+ KB\n"
     ]
    }
   ],
   "source": [
    "raw_train_2 = pd.read_csv(\"data_train_2.csv\")\n",
    "display(raw_train_2.head())\n",
    "raw_train_2.info()\n",
    "#raw_train_2[raw_train_2['ko'].isnull()].index.tolist()"
   ]
  },
  {
   "cell_type": "code",
   "execution_count": 82,
   "id": "5e760b84-2490-4191-b134-d713ac7a6716",
   "metadata": {
    "tags": []
   },
   "outputs": [
    {
     "data": {
      "text/html": [
       "<div>\n",
       "<style scoped>\n",
       "    .dataframe tbody tr th:only-of-type {\n",
       "        vertical-align: middle;\n",
       "    }\n",
       "\n",
       "    .dataframe tbody tr th {\n",
       "        vertical-align: top;\n",
       "    }\n",
       "\n",
       "    .dataframe thead th {\n",
       "        text-align: right;\n",
       "    }\n",
       "</style>\n",
       "<table border=\"1\" class=\"dataframe\">\n",
       "  <thead>\n",
       "    <tr style=\"text-align: right;\">\n",
       "      <th></th>\n",
       "      <th>Idioms</th>\n",
       "      <th>en</th>\n",
       "      <th>ko</th>\n",
       "    </tr>\n",
       "  </thead>\n",
       "  <tbody>\n",
       "    <tr>\n",
       "      <th>0</th>\n",
       "      <td>No buts.</td>\n",
       "      <td>You're grounded. No buts.</td>\n",
       "      <td>외출금지니까 토 달지마.</td>\n",
       "    </tr>\n",
       "    <tr>\n",
       "      <th>1</th>\n",
       "      <td>NaN</td>\n",
       "      <td>Finish your meal. No buts.</td>\n",
       "      <td>잔말말고 다 먹어.</td>\n",
       "    </tr>\n",
       "    <tr>\n",
       "      <th>2</th>\n",
       "      <td>NaN</td>\n",
       "      <td>Do your homework. No buts.</td>\n",
       "      <td>어서가서 숙제해. 예외는 없는 거야.</td>\n",
       "    </tr>\n",
       "    <tr>\n",
       "      <th>3</th>\n",
       "      <td>NaN</td>\n",
       "      <td>No buts!</td>\n",
       "      <td>토 달지 말고!</td>\n",
       "    </tr>\n",
       "    <tr>\n",
       "      <th>4</th>\n",
       "      <td>NaN</td>\n",
       "      <td>Clean your room. No buts.</td>\n",
       "      <td>청소해. 토 달지 말고.</td>\n",
       "    </tr>\n",
       "  </tbody>\n",
       "</table>\n",
       "</div>"
      ],
      "text/plain": [
       "     Idioms                          en                    ko\n",
       "0  No buts.   You're grounded. No buts.         외출금지니까 토 달지마.\n",
       "1       NaN  Finish your meal. No buts.            잔말말고 다 먹어.\n",
       "2       NaN  Do your homework. No buts.  어서가서 숙제해. 예외는 없는 거야.\n",
       "3       NaN                    No buts!              토 달지 말고!\n",
       "4       NaN   Clean your room. No buts.         청소해. 토 달지 말고."
      ]
     },
     "metadata": {},
     "output_type": "display_data"
    },
    {
     "name": "stdout",
     "output_type": "stream",
     "text": [
      "<class 'pandas.core.frame.DataFrame'>\n",
      "Index: 3235 entries, 0 to 790\n",
      "Data columns (total 3 columns):\n",
      " #   Column  Non-Null Count  Dtype \n",
      "---  ------  --------------  ----- \n",
      " 0   Idioms  232 non-null    object\n",
      " 1   en      3235 non-null   object\n",
      " 2   ko      3235 non-null   object\n",
      "dtypes: object(3)\n",
      "memory usage: 101.1+ KB\n"
     ]
    }
   ],
   "source": [
    "raw_train = pd.concat([raw_train_1, raw_train_2])\n",
    "display(raw_train.head())\n",
    "raw_train.info()"
   ]
  },
  {
   "cell_type": "code",
   "execution_count": 83,
   "id": "8279a1a7-9e12-4523-890c-df07dfaa0119",
   "metadata": {
    "tags": []
   },
   "outputs": [],
   "source": [
    "raw_train.to_csv(\"a_data_train.csv\", index=False)\n",
    "column_list = ['en', 'ko']\n",
    "raw_train.to_csv('data_train.csv', columns = column_list,index=False)"
   ]
  },
  {
   "cell_type": "code",
   "execution_count": 39,
   "id": "2e657756-f9d1-4ff6-b59b-f89e1b81625d",
   "metadata": {
    "tags": []
   },
   "outputs": [
    {
     "name": "stdout",
     "output_type": "stream",
     "text": [
      "3235 3235\n"
     ]
    }
   ],
   "source": [
    "idioms_train_en = raw_train['en'].tolist()\n",
    "idioms_train_ko = raw_train['ko'].tolist()\n",
    "print( len(idioms_train_en) , len(idioms_train_ko) )"
   ]
  },
  {
   "cell_type": "code",
   "execution_count": 29,
   "id": "cde4027a-2795-4b79-98d3-360fd30164d4",
   "metadata": {
    "tags": []
   },
   "outputs": [
    {
     "data": {
      "text/html": [
       "<div>\n",
       "<style scoped>\n",
       "    .dataframe tbody tr th:only-of-type {\n",
       "        vertical-align: middle;\n",
       "    }\n",
       "\n",
       "    .dataframe tbody tr th {\n",
       "        vertical-align: top;\n",
       "    }\n",
       "\n",
       "    .dataframe thead th {\n",
       "        text-align: right;\n",
       "    }\n",
       "</style>\n",
       "<table border=\"1\" class=\"dataframe\">\n",
       "  <thead>\n",
       "    <tr style=\"text-align: right;\">\n",
       "      <th></th>\n",
       "      <th>en</th>\n",
       "      <th>ko</th>\n",
       "    </tr>\n",
       "  </thead>\n",
       "  <tbody>\n",
       "    <tr>\n",
       "      <th>0</th>\n",
       "      <td>Once upon a time, there were three beautiful b...</td>\n",
       "      <td>옛날 옛적에, 세 마리의 예쁜 나비가 있었어요.</td>\n",
       "    </tr>\n",
       "    <tr>\n",
       "      <th>1</th>\n",
       "      <td>I felt like I have millions butterflies in my ...</td>\n",
       "      <td>너무 긴장 한 것 같았어요.</td>\n",
       "    </tr>\n",
       "    <tr>\n",
       "      <th>2</th>\n",
       "      <td>The deal was completely open and above board.</td>\n",
       "      <td>거래는 완전히 공개되었고 명백했습니다.</td>\n",
       "    </tr>\n",
       "    <tr>\n",
       "      <th>3</th>\n",
       "      <td>I left the keys on the board on your porch.</td>\n",
       "      <td>현관 게시판에 열쇠를 두고 왔어요.</td>\n",
       "    </tr>\n",
       "    <tr>\n",
       "      <th>4</th>\n",
       "      <td>clean your toys in the living room. no buts!</td>\n",
       "      <td>어서 거실에 있는 장난감 정리하세요. 토 달지 말고!</td>\n",
       "    </tr>\n",
       "  </tbody>\n",
       "</table>\n",
       "</div>"
      ],
      "text/plain": [
       "                                                  en   \n",
       "0  Once upon a time, there were three beautiful b...  \\\n",
       "1  I felt like I have millions butterflies in my ...   \n",
       "2      The deal was completely open and above board.   \n",
       "3        I left the keys on the board on your porch.   \n",
       "4       clean your toys in the living room. no buts!   \n",
       "\n",
       "                              ko  \n",
       "0     옛날 옛적에, 세 마리의 예쁜 나비가 있었어요.  \n",
       "1                너무 긴장 한 것 같았어요.  \n",
       "2          거래는 완전히 공개되었고 명백했습니다.  \n",
       "3            현관 게시판에 열쇠를 두고 왔어요.  \n",
       "4  어서 거실에 있는 장난감 정리하세요. 토 달지 말고!  "
      ]
     },
     "metadata": {},
     "output_type": "display_data"
    },
    {
     "name": "stdout",
     "output_type": "stream",
     "text": [
      "<class 'pandas.core.frame.DataFrame'>\n",
      "RangeIndex: 277 entries, 0 to 276\n",
      "Data columns (total 2 columns):\n",
      " #   Column  Non-Null Count  Dtype \n",
      "---  ------  --------------  ----- \n",
      " 0   en      277 non-null    object\n",
      " 1   ko      277 non-null    object\n",
      "dtypes: object(2)\n",
      "memory usage: 4.5+ KB\n"
     ]
    }
   ],
   "source": [
    "raw_test = pd.read_csv(\"data_test.csv\")\n",
    "display(raw_test.head())\n",
    "raw_test.info()\n",
    "#raw_test[raw_test['ko'].isnull()].index.tolist()"
   ]
  },
  {
   "cell_type": "code",
   "execution_count": 31,
   "id": "a492d9de-dbb3-47f1-97d7-1138a68e5a1a",
   "metadata": {
    "tags": []
   },
   "outputs": [],
   "source": [
    "column_list = ['en', 'ko']\n",
    "raw_test[:5].to_csv('data_test_5.csv', columns = column_list,index=False)"
   ]
  },
  {
   "cell_type": "code",
   "execution_count": 29,
   "id": "93349b36-bf68-4c5d-9ddd-7027001c3fa1",
   "metadata": {
    "tags": []
   },
   "outputs": [
    {
     "name": "stdout",
     "output_type": "stream",
     "text": [
      "277 277\n"
     ]
    }
   ],
   "source": [
    "idioms_test_en = raw_test['en'].tolist()\n",
    "idioms_test_ko = raw_test['ko'].tolist()\n",
    "print( len(idioms_test_en) , len(idioms_test_ko) )"
   ]
  },
  {
   "cell_type": "markdown",
   "id": "b6ca92e3-08e8-4901-91ed-155183050022",
   "metadata": {
    "tags": []
   },
   "source": [
    "# BASELINE"
   ]
  },
  {
   "cell_type": "code",
   "execution_count": 45,
   "id": "6a030f22-aaef-4427-a23a-ffc0d7e2aa84",
   "metadata": {
    "tags": []
   },
   "outputs": [
    {
     "data": {
      "text/html": [
       "<div>\n",
       "<style scoped>\n",
       "    .dataframe tbody tr th:only-of-type {\n",
       "        vertical-align: middle;\n",
       "    }\n",
       "\n",
       "    .dataframe tbody tr th {\n",
       "        vertical-align: top;\n",
       "    }\n",
       "\n",
       "    .dataframe thead th {\n",
       "        text-align: right;\n",
       "    }\n",
       "</style>\n",
       "<table border=\"1\" class=\"dataframe\">\n",
       "  <thead>\n",
       "    <tr style=\"text-align: right;\">\n",
       "      <th></th>\n",
       "      <th>en</th>\n",
       "      <th>ko</th>\n",
       "    </tr>\n",
       "  </thead>\n",
       "  <tbody>\n",
       "    <tr>\n",
       "      <th>0</th>\n",
       "      <td>Once upon a time, there were three beautiful b...</td>\n",
       "      <td>옛날 옛적에, 세 마리의 예쁜 나비가 있었어요.</td>\n",
       "    </tr>\n",
       "    <tr>\n",
       "      <th>1</th>\n",
       "      <td>I felt like I have millions butterflies in my ...</td>\n",
       "      <td>너무 긴장 한 것 같았어요.</td>\n",
       "    </tr>\n",
       "    <tr>\n",
       "      <th>2</th>\n",
       "      <td>The deal was completely open and above board.</td>\n",
       "      <td>거래는 완전히 공개되었고 명백했습니다.</td>\n",
       "    </tr>\n",
       "    <tr>\n",
       "      <th>3</th>\n",
       "      <td>I left the keys on the board on your porch.</td>\n",
       "      <td>현관 게시판에 열쇠를 두고 왔어요.</td>\n",
       "    </tr>\n",
       "    <tr>\n",
       "      <th>4</th>\n",
       "      <td>clean your toys in the living room. no buts!</td>\n",
       "      <td>어서 거실에 있는 장난감 정리하세요. 토 달지 말고!</td>\n",
       "    </tr>\n",
       "  </tbody>\n",
       "</table>\n",
       "</div>"
      ],
      "text/plain": [
       "                                                  en   \n",
       "0  Once upon a time, there were three beautiful b...  \\\n",
       "1  I felt like I have millions butterflies in my ...   \n",
       "2      The deal was completely open and above board.   \n",
       "3        I left the keys on the board on your porch.   \n",
       "4       clean your toys in the living room. no buts!   \n",
       "\n",
       "                              ko  \n",
       "0     옛날 옛적에, 세 마리의 예쁜 나비가 있었어요.  \n",
       "1                너무 긴장 한 것 같았어요.  \n",
       "2          거래는 완전히 공개되었고 명백했습니다.  \n",
       "3            현관 게시판에 열쇠를 두고 왔어요.  \n",
       "4  어서 거실에 있는 장난감 정리하세요. 토 달지 말고!  "
      ]
     },
     "metadata": {},
     "output_type": "display_data"
    }
   ],
   "source": [
    "import pandas as pd\n",
    "\n",
    "# EN =======> KO\n",
    "\n",
    "df_test = pd.read_csv(\"data_test.csv\")\n",
    "display(df_test.head())\n",
    "src_text = df_test['en'].values.tolist()\n",
    "\n",
    "with open(\"config_enko.yaml\") as infile:\n",
    "    SAVED_CFG = yaml.load(infile, Loader=yaml.FullLoader)\n",
    "    CFG = EasyDict(SAVED_CFG[\"CFG\"])\n",
    "\n",
    "#EN KO\n",
    "model_name = \"QuoQA-NLP/KE-T5-En2Ko-Base\"\n",
    "tokenizer = AutoTokenizer.from_pretrained(model_name)\n",
    "model = AutoModelForSeq2SeqLM.from_pretrained(model_name)\n",
    "\n",
    "translated = model.generate(\n",
    "    **tokenizer(src_text, return_tensors=\"pt\", padding='max_length', max_length=CFG.max_token_length,),\n",
    "    max_length=CFG.max_token_length,\n",
    "    num_beams=CFG.num_beams,\n",
    "    repetition_penalty=CFG.repetition_penalty,\n",
    "    no_repeat_ngram_size=CFG.no_repeat_ngram_size,\n",
    "    num_return_sequences=CFG.num_return_sequences,\n",
    ")\n",
    "\n",
    "output = []\n",
    "for t in translated:\n",
    "    output.append(tokenizer.decode(t, skip_special_tokens=True))\n",
    "    \n",
    "df_test['Results_baseline_enko'] = output\n",
    "\n",
    "# KO =======> EN\n",
    "\n",
    "src_text = df_test['ko'].values.tolist()\n",
    "\n",
    "'''\n",
    "with open(\"config_koen.yaml\") as infile:\n",
    "    SAVED_CFG = yaml.load(infile, Loader=yaml.FullLoader)\n",
    "    CFG = EasyDict(SAVED_CFG[\"CFG\"])\n",
    "'''\n",
    "\n",
    "model_name = \"QuoQA-NLP/KE-T5-Ko2En-Base\"\n",
    "tokenizer = AutoTokenizer.from_pretrained(model_name)\n",
    "model = AutoModelForSeq2SeqLM.from_pretrained(model_name)\n",
    "\n",
    "translated = model.generate(\n",
    "    **tokenizer(src_text, return_tensors=\"pt\", padding='max_length', max_length=CFG.max_token_length,),\n",
    "    max_length=CFG.max_token_length,\n",
    "    num_beams=CFG.num_beams,\n",
    "    repetition_penalty=CFG.repetition_penalty,\n",
    "    no_repeat_ngram_size=CFG.no_repeat_ngram_size,\n",
    "    num_return_sequences=CFG.num_return_sequences,\n",
    ")\n",
    "\n",
    "output = []\n",
    "for t in translated:\n",
    "    output.append(tokenizer.decode(t, skip_special_tokens=True))\n",
    "    \n",
    "df_test['Results_baseline_koen'] = output\n",
    "\n",
    "## save file\n",
    "df_test.to_csv(\"Results_baseline.csv\")"
   ]
  },
  {
   "cell_type": "code",
   "execution_count": 57,
   "id": "95d55294-b99d-406b-86db-9033189597d3",
   "metadata": {
    "tags": []
   },
   "outputs": [
    {
     "data": {
      "text/html": [
       "<div>\n",
       "<style scoped>\n",
       "    .dataframe tbody tr th:only-of-type {\n",
       "        vertical-align: middle;\n",
       "    }\n",
       "\n",
       "    .dataframe tbody tr th {\n",
       "        vertical-align: top;\n",
       "    }\n",
       "\n",
       "    .dataframe thead th {\n",
       "        text-align: right;\n",
       "    }\n",
       "</style>\n",
       "<table border=\"1\" class=\"dataframe\">\n",
       "  <thead>\n",
       "    <tr style=\"text-align: right;\">\n",
       "      <th></th>\n",
       "      <th>Unnamed: 0</th>\n",
       "      <th>en</th>\n",
       "      <th>ko</th>\n",
       "      <th>Results_baseline_enko</th>\n",
       "      <th>Results_baseline_koen</th>\n",
       "    </tr>\n",
       "  </thead>\n",
       "  <tbody>\n",
       "    <tr>\n",
       "      <th>0</th>\n",
       "      <td>0</td>\n",
       "      <td>Once upon a time, there were three beautiful b...</td>\n",
       "      <td>옛날 옛적에, 세 마리의 예쁜 나비가 있었어요.</td>\n",
       "      <td>옛날에는 세 마리의 아름다운 나비가 있었다.</td>\n",
       "      <td>In the old days, there were three pretty butte...</td>\n",
       "    </tr>\n",
       "    <tr>\n",
       "      <th>1</th>\n",
       "      <td>1</td>\n",
       "      <td>I felt like I have millions butterflies in my ...</td>\n",
       "      <td>너무 긴장 한 것 같았어요.</td>\n",
       "      <td>나는 위에 수백만 마리의 나비가 있는 것 같았어.</td>\n",
       "      <td>I felt so nervous.</td>\n",
       "    </tr>\n",
       "    <tr>\n",
       "      <th>2</th>\n",
       "      <td>2</td>\n",
       "      <td>The deal was completely open and above board.</td>\n",
       "      <td>거래는 완전히 공개되었고 명백했습니다.</td>\n",
       "      <td>그 거래는 완전히 개방되었고 이사회 위에 있었다.</td>\n",
       "      <td>The transaction was completely disclosed and c...</td>\n",
       "    </tr>\n",
       "    <tr>\n",
       "      <th>3</th>\n",
       "      <td>3</td>\n",
       "      <td>I left the keys on the board on your porch.</td>\n",
       "      <td>현관 게시판에 열쇠를 두고 왔어요.</td>\n",
       "      <td>나는 당신의 porch에 키를 보드에 두고 왔어요.</td>\n",
       "      <td>I left the key on the front door bulletin board.</td>\n",
       "    </tr>\n",
       "    <tr>\n",
       "      <th>4</th>\n",
       "      <td>4</td>\n",
       "      <td>clean your toys in the living room. no buts!</td>\n",
       "      <td>어서 거실에 있는 장난감 정리하세요. 토 달지 말고!</td>\n",
       "      <td>거실에 있는 장난감을 깨끗하게 청소하세요! 안녕!</td>\n",
       "      <td>Let's clean up the toys in the living room, do...</td>\n",
       "    </tr>\n",
       "  </tbody>\n",
       "</table>\n",
       "</div>"
      ],
      "text/plain": [
       "   Unnamed: 0                                                 en   \n",
       "0           0  Once upon a time, there were three beautiful b...  \\\n",
       "1           1  I felt like I have millions butterflies in my ...   \n",
       "2           2      The deal was completely open and above board.   \n",
       "3           3        I left the keys on the board on your porch.   \n",
       "4           4       clean your toys in the living room. no buts!   \n",
       "\n",
       "                              ko         Results_baseline_enko   \n",
       "0     옛날 옛적에, 세 마리의 예쁜 나비가 있었어요.      옛날에는 세 마리의 아름다운 나비가 있었다.  \\\n",
       "1                너무 긴장 한 것 같았어요.   나는 위에 수백만 마리의 나비가 있는 것 같았어.   \n",
       "2          거래는 완전히 공개되었고 명백했습니다.   그 거래는 완전히 개방되었고 이사회 위에 있었다.   \n",
       "3            현관 게시판에 열쇠를 두고 왔어요.  나는 당신의 porch에 키를 보드에 두고 왔어요.   \n",
       "4  어서 거실에 있는 장난감 정리하세요. 토 달지 말고!   거실에 있는 장난감을 깨끗하게 청소하세요! 안녕!   \n",
       "\n",
       "                               Results_baseline_koen  \n",
       "0  In the old days, there were three pretty butte...  \n",
       "1                                 I felt so nervous.  \n",
       "2  The transaction was completely disclosed and c...  \n",
       "3   I left the key on the front door bulletin board.  \n",
       "4  Let's clean up the toys in the living room, do...  "
      ]
     },
     "metadata": {},
     "output_type": "display_data"
    }
   ],
   "source": [
    "df_base = pd.read_csv(\"Results_baseline.csv\")\n",
    "preds_enko = df_base[\"Results_baseline_enko\"].tolist()\n",
    "preds_koen = df_base[\"Results_baseline_koen\"].tolist()\n",
    "labels_ko = np.expand_dims(df_base[\"ko\"], axis=1).tolist()\n",
    "labels_en = np.expand_dims(df_base[\"en\"], axis=1).tolist()\n",
    "display(df_base.head())"
   ]
  },
  {
   "cell_type": "code",
   "execution_count": 60,
   "id": "1c3b4e15-c278-4fe6-92ea-b4795ff0cba1",
   "metadata": {
    "tags": []
   },
   "outputs": [
    {
     "name": "stdout",
     "output_type": "stream",
     "text": [
      "BLEU = 19.30 66.7/20.0/12.5/8.3 (BP = 1.000 ratio = 1.000 hyp_len = 6 ref_len = 6)\n",
      "BLEU = 26.08 77.8/50.0/14.3/8.3 (BP = 1.000 ratio = 1.000 hyp_len = 9 ref_len = 9)\n"
     ]
    }
   ],
   "source": [
    "df_base = pd.read_csv(\"Results_baseline.csv\")\n",
    "preds_enko = df_base[\"Results_baseline_enko\"].tolist()\n",
    "preds_koen = df_base[\"Results_baseline_koen\"].tolist()\n",
    "labels_ko = np.expand_dims(df_base[\"ko\"], axis=1).tolist()\n",
    "labels_en = np.expand_dims(df_base[\"en\"], axis=1).tolist()\n",
    "display(df_base.head())\n",
    "\n",
    "import sacrebleu\n",
    "score = sacrebleu.corpus_bleu(preds_enko, labels_ko, tokenize=\"none\", lowercase=True)\n",
    "print(score)\n",
    "score = sacrebleu.corpus_bleu(preds_koen, labels_en, tokenize=\"none\", lowercase=True)\n",
    "print(score)"
   ]
  },
  {
   "cell_type": "code",
   "execution_count": 75,
   "id": "f7ada820-fd6e-4b58-a84d-383d81528403",
   "metadata": {
    "tags": []
   },
   "outputs": [
    {
     "data": {
      "text/html": [
       "<div>\n",
       "<style scoped>\n",
       "    .dataframe tbody tr th:only-of-type {\n",
       "        vertical-align: middle;\n",
       "    }\n",
       "\n",
       "    .dataframe tbody tr th {\n",
       "        vertical-align: top;\n",
       "    }\n",
       "\n",
       "    .dataframe thead th {\n",
       "        text-align: right;\n",
       "    }\n",
       "</style>\n",
       "<table border=\"1\" class=\"dataframe\">\n",
       "  <thead>\n",
       "    <tr style=\"text-align: right;\">\n",
       "      <th></th>\n",
       "      <th>Unnamed: 0</th>\n",
       "      <th>en</th>\n",
       "      <th>ko</th>\n",
       "      <th>Results_baseline_enko</th>\n",
       "      <th>Results_baseline_koen</th>\n",
       "    </tr>\n",
       "  </thead>\n",
       "  <tbody>\n",
       "    <tr>\n",
       "      <th>0</th>\n",
       "      <td>0</td>\n",
       "      <td>Once upon a time, there were three beautiful b...</td>\n",
       "      <td>옛날 옛적에, 세 마리의 예쁜 나비가 있었어요.</td>\n",
       "      <td>옛날에는 세 마리의 아름다운 나비가 있었다.</td>\n",
       "      <td>In the old days, there were three pretty butte...</td>\n",
       "    </tr>\n",
       "    <tr>\n",
       "      <th>1</th>\n",
       "      <td>1</td>\n",
       "      <td>I felt like I have millions butterflies in my ...</td>\n",
       "      <td>너무 긴장 한 것 같았어요.</td>\n",
       "      <td>나는 위에 수백만 마리의 나비가 있는 것 같았어.</td>\n",
       "      <td>I felt so nervous.</td>\n",
       "    </tr>\n",
       "    <tr>\n",
       "      <th>2</th>\n",
       "      <td>2</td>\n",
       "      <td>The deal was completely open and above board.</td>\n",
       "      <td>거래는 완전히 공개되었고 명백했습니다.</td>\n",
       "      <td>그 거래는 완전히 개방되었고 이사회 위에 있었다.</td>\n",
       "      <td>The transaction was completely disclosed and c...</td>\n",
       "    </tr>\n",
       "    <tr>\n",
       "      <th>3</th>\n",
       "      <td>3</td>\n",
       "      <td>I left the keys on the board on your porch.</td>\n",
       "      <td>현관 게시판에 열쇠를 두고 왔어요.</td>\n",
       "      <td>나는 당신의 porch에 키를 보드에 두고 왔어요.</td>\n",
       "      <td>I left the key on the front door bulletin board.</td>\n",
       "    </tr>\n",
       "    <tr>\n",
       "      <th>4</th>\n",
       "      <td>4</td>\n",
       "      <td>clean your toys in the living room. no buts!</td>\n",
       "      <td>어서 거실에 있는 장난감 정리하세요. 토 달지 말고!</td>\n",
       "      <td>거실에 있는 장난감을 깨끗하게 청소하세요! 안녕!</td>\n",
       "      <td>Let's clean up the toys in the living room, do...</td>\n",
       "    </tr>\n",
       "  </tbody>\n",
       "</table>\n",
       "</div>"
      ],
      "text/plain": [
       "   Unnamed: 0                                                 en   \n",
       "0           0  Once upon a time, there were three beautiful b...  \\\n",
       "1           1  I felt like I have millions butterflies in my ...   \n",
       "2           2      The deal was completely open and above board.   \n",
       "3           3        I left the keys on the board on your porch.   \n",
       "4           4       clean your toys in the living room. no buts!   \n",
       "\n",
       "                              ko         Results_baseline_enko   \n",
       "0     옛날 옛적에, 세 마리의 예쁜 나비가 있었어요.      옛날에는 세 마리의 아름다운 나비가 있었다.  \\\n",
       "1                너무 긴장 한 것 같았어요.   나는 위에 수백만 마리의 나비가 있는 것 같았어.   \n",
       "2          거래는 완전히 공개되었고 명백했습니다.   그 거래는 완전히 개방되었고 이사회 위에 있었다.   \n",
       "3            현관 게시판에 열쇠를 두고 왔어요.  나는 당신의 porch에 키를 보드에 두고 왔어요.   \n",
       "4  어서 거실에 있는 장난감 정리하세요. 토 달지 말고!   거실에 있는 장난감을 깨끗하게 청소하세요! 안녕!   \n",
       "\n",
       "                               Results_baseline_koen  \n",
       "0  In the old days, there were three pretty butte...  \n",
       "1                                 I felt so nervous.  \n",
       "2  The transaction was completely disclosed and c...  \n",
       "3   I left the key on the front door bulletin board.  \n",
       "4  Let's clean up the toys in the living room, do...  "
      ]
     },
     "metadata": {},
     "output_type": "display_data"
    },
    {
     "name": "stdout",
     "output_type": "stream",
     "text": [
      "{'score': 9.367361940458151, 'counts': [972, 299, 134, 55], 'totals': [2733, 2456, 2179, 1902], 'precisions': [35.56531284302964, 12.174267100977199, 6.1496099128040385, 2.891692954784437], 'bp': 1.0, 'sys_len': 2733, 'ref_len': 2696}\n",
      "{'score': 17.91036792930159, 'counts': [1831, 809, 418, 219], 'totals': [3724, 3447, 3170, 2893], 'precisions': [49.16756176154672, 23.46968378299971, 13.186119873817034, 7.569996543380574], 'bp': 0.9721982944214319, 'sys_len': 3724, 'ref_len': 3829}\n"
     ]
    }
   ],
   "source": [
    "df_base = pd.read_csv(\"Results_baseline.csv\")\n",
    "preds_enko = df_base[\"Results_baseline_enko\"]\n",
    "preds_koen = df_base[\"Results_baseline_koen\"]\n",
    "labels_ko = np.expand_dims(df_base[\"ko\"], axis=1)\n",
    "labels_en = np.expand_dims(df_base[\"en\"], axis=1)\n",
    "display(df_base.head())\n",
    "\n",
    "score = metric.compute(predictions=preds_enko, references=labels_ko)\n",
    "print(score)\n",
    "score = metric.compute(predictions=preds_koen, references=labels_en)\n",
    "print(score)"
   ]
  },
  {
   "cell_type": "markdown",
   "id": "2a4964c5-3bd4-46dd-a18d-6e559364d435",
   "metadata": {
    "tags": []
   },
   "source": [
    "# TRAIN EN - KO"
   ]
  },
  {
   "cell_type": "code",
   "execution_count": null,
   "id": "ac669324-a551-4f3f-a26e-705a30cf64c7",
   "metadata": {},
   "outputs": [],
   "source": [
    "!python trainenko.py"
   ]
  },
  {
   "cell_type": "markdown",
   "id": "5ef5d32f-6c89-432d-96fe-6d5da0fa96e5",
   "metadata": {
    "tags": []
   },
   "source": [
    "# TRAIN KO-EN"
   ]
  },
  {
   "cell_type": "code",
   "execution_count": null,
   "id": "f55aeec0-628f-4142-b160-7dd3cedc863e",
   "metadata": {},
   "outputs": [],
   "source": [
    "!python trainkoen.py"
   ]
  },
  {
   "cell_type": "markdown",
   "id": "290005e4-38b4-433d-9718-7fb62ecefce1",
   "metadata": {
    "tags": []
   },
   "source": [
    "# TEST STUFF"
   ]
  },
  {
   "cell_type": "code",
   "execution_count": 71,
   "id": "30151dc6-22ec-44b5-85c1-14bb041dd436",
   "metadata": {
    "tags": []
   },
   "outputs": [
    {
     "data": {
      "text/plain": [
       "DatasetDict({\n",
       "    test: Dataset({\n",
       "        features: ['input_ids', 'attention_mask', 'labels'],\n",
       "        num_rows: 5\n",
       "    })\n",
       "})"
      ]
     },
     "execution_count": 71,
     "metadata": {},
     "output_type": "execute_result"
    }
   ],
   "source": [
    "sample_set = load_dataset(\"csv\", data_files={'test': 'data_test_5.csv'})\n",
    "tokenizer = AutoTokenizer.from_pretrained(\"QuoQA-NLP/KE-T5-En2Ko-Base\", local_files_only=True)\n",
    "\n",
    "with open(\"config_enko.yaml\") as infile:\n",
    "    SAVED_CFG = yaml.load(infile, Loader=yaml.FullLoader)\n",
    "    CFG = EasyDict(SAVED_CFG[\"CFG\"])\n",
    "    \n",
    "def preprocess_function(examples):\n",
    "    inputs = examples[CFG.src_language]\n",
    "    targets = examples[CFG.tgt_language]\n",
    "    model_inputs = tokenizer(inputs, max_length=CFG.max_token_length, truncation=True)\n",
    "    # Setup the tokenizer for targets\n",
    "    with tokenizer.as_target_tokenizer():\n",
    "        labels = tokenizer(targets, max_length=CFG.max_token_length, truncation=True)\n",
    "    model_inputs[\"labels\"] = labels[\"input_ids\"]\n",
    "    return model_inputs\n",
    "\n",
    "if tokenizer:\n",
    "    tokenized_datasets = sample_set.map(\n",
    "        preprocess_function,\n",
    "        batched=True,\n",
    "        num_proc=1,\n",
    "        remove_columns=sample_set[\"test\"].column_names,\n",
    "    )#The default batch size is 1000, but you can adjust it with the batch_size argument\n",
    "    tokenized_datasets.set_format(\"torch\")\n",
    "    \n",
    "tokenized_datasets"
   ]
  },
  {
   "cell_type": "code",
   "execution_count": 43,
   "id": "2c1b7114-8003-4314-a306-e010e072ffd2",
   "metadata": {
    "tags": []
   },
   "outputs": [
    {
     "name": "stderr",
     "output_type": "stream",
     "text": [
      "You're using a T5TokenizerFast tokenizer. Please note that with a fast tokenizer, using the `__call__` method is faster than using a method to encode the text followed by a call to the `pad` method to get a padded encoding.\n"
     ]
    },
    {
     "name": "stdout",
     "output_type": "stream",
     "text": [
      "dict_keys(['input_ids', 'attention_mask', 'labels', 'decoder_input_ids'])\n"
     ]
    }
   ],
   "source": [
    "model = AutoModelForSeq2SeqLM.from_pretrained(CFG.model_name, local_files_only=True)\n",
    "data_collator = DataCollatorForSeq2Seq(tokenizer, model=model)\n",
    "\n",
    "batch = data_collator([tokenized_datasets[\"test\"][i] for i in range(1, 3)])\n",
    "print(batch.keys()) #(['input_ids', 'attention_mask', 'labels', 'decoder_input_ids'])"
   ]
  },
  {
   "cell_type": "code",
   "execution_count": 64,
   "id": "0458332d-f70c-4ed7-af60-28798708aff0",
   "metadata": {
    "tags": []
   },
   "outputs": [],
   "source": [
    "def postprocess(predictions, labels):\n",
    "    predictions = predictions.cpu().numpy()\n",
    "    labels = labels.cpu().numpy()\n",
    "\n",
    "    decoded_preds = tokenizer.batch_decode(predictions, skip_special_tokens=True)\n",
    "\n",
    "    # Replace -100 in the labels as we can't decode them.\n",
    "    labels = np.where(labels != -100, labels, tokenizer.pad_token_id)\n",
    "    decoded_labels = tokenizer.batch_decode(labels, skip_special_tokens=True)\n",
    "\n",
    "    # Some simple post-processing\n",
    "    decoded_preds = [pred.strip() for pred in decoded_preds]\n",
    "    decoded_labels = [[label.strip()] for label in decoded_labels]\n",
    "    return decoded_preds, decoded_labels"
   ]
  },
  {
   "cell_type": "code",
   "execution_count": 67,
   "id": "98ee9ce3-fc3d-4ea0-9b8e-7f3eb571d739",
   "metadata": {
    "tags": []
   },
   "outputs": [
    {
     "name": "stderr",
     "output_type": "stream",
     "text": [
      "100%|█████████████████████████████████████████████████████████████████████████████████████████████████████████| 5/5 [00:05<00:00,  1.14s/it]"
     ]
    },
    {
     "name": "stdout",
     "output_type": "stream",
     "text": [
      "BLEU score: 6.56\n"
     ]
    },
    {
     "name": "stderr",
     "output_type": "stream",
     "text": [
      "\n"
     ]
    }
   ],
   "source": [
    "from torch.utils.data import DataLoader\n",
    "from tqdm import tqdm\n",
    "\n",
    "eval_dataloader = DataLoader(tokenized_datasets[\"test\"], collate_fn=data_collator, batch_size=1)\n",
    "model.eval()\n",
    "for batch in tqdm(eval_dataloader):\n",
    "    with torch.no_grad():\n",
    "        #batch = {k: v.to(device) for k, v in batch.items()}\n",
    "        generated_tokens = model.generate(\n",
    "            batch[\"input_ids\"],\n",
    "            attention_mask=batch[\"attention_mask\"],\n",
    "            max_length=128,\n",
    "        )\n",
    "    labels = batch[\"labels\"]\n",
    "    decoded_preds, decoded_labels = postprocess(generated_tokens, labels)\n",
    "    metric.add_batch(predictions=decoded_preds, references=decoded_labels)\n",
    "\n",
    "results = metric.compute()\n",
    "print(f\"BLEU score: {results['score']:.2f}\")"
   ]
  },
  {
   "cell_type": "code",
   "execution_count": null,
   "id": "06f40568-5ba9-47d1-9ea0-bc9782659fd0",
   "metadata": {},
   "outputs": [],
   "source": []
  }
 ],
 "metadata": {
  "kernelspec": {
   "display_name": "Python 3 (ipykernel)",
   "language": "python",
   "name": "python3"
  },
  "language_info": {
   "codemirror_mode": {
    "name": "ipython",
    "version": 3
   },
   "file_extension": ".py",
   "mimetype": "text/x-python",
   "name": "python",
   "nbconvert_exporter": "python",
   "pygments_lexer": "ipython3",
   "version": "3.10.11"
  }
 },
 "nbformat": 4,
 "nbformat_minor": 5
}
