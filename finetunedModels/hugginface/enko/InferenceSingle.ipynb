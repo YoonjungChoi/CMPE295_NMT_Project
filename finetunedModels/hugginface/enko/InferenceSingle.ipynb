{
 "cells": [
  {
   "cell_type": "code",
   "execution_count": 2,
   "id": "d649fe4e-2a19-40ec-807f-a3543ce1ce97",
   "metadata": {
    "tags": []
   },
   "outputs": [
    {
     "name": "stdout",
     "output_type": "stream",
     "text": [
      "# conda environments:\n",
      "#\n",
      "VAdepthENV               /home/013907062/.conda/envs/VAdepthENV\n",
      "env_onmttf               /home/013907062/.conda/envs/env_onmttf\n",
      "koen_base                /home/013907062/.conda/envs/koen_base\n",
      "newDepth                 /home/013907062/.conda/envs/newDepth\n",
      "test                     /home/013907062/.conda/envs/test\n",
      "wmt_infer             *  /home/013907062/.conda/envs/wmt_infer\n",
      "base                     /opt/ohpc/pub/apps/anaconda/3.9\n",
      "stylegan2                /opt/ohpc/pub/apps/anaconda/3.9/envs/stylegan2\n",
      "\n"
     ]
    }
   ],
   "source": [
    "!conda env list"
   ]
  },
  {
   "cell_type": "code",
   "execution_count": 4,
   "id": "b76350f9-43a5-4779-8ce5-9f46562fbcc3",
   "metadata": {
    "tags": []
   },
   "outputs": [],
   "source": [
    "from transformers import AutoTokenizer, MarianMTModel, AutoTokenizer, AutoModelForSeq2SeqLM\n",
    "from easydict import EasyDict\n",
    "import yaml"
   ]
  },
  {
   "cell_type": "code",
   "execution_count": 6,
   "id": "9fd4bc1b-3b61-4d86-ad86-47d4138eb8f3",
   "metadata": {
    "tags": []
   },
   "outputs": [],
   "source": [
    "# Read config.yaml file\n",
    "with open(\"config.yaml\") as infile:\n",
    "    SAVED_CFG = yaml.load(infile, Loader=yaml.FullLoader)\n",
    "    CFG = EasyDict(SAVED_CFG[\"CFG\"])\n",
    "\n",
    "src_text = [\"I will play it by ear.\",\n",
    "            \"I've got butterflies in my stomach.\",\n",
    "            \"The crowd went bananas when the concert began.\",\n",
    "            \"I used to get butterflies in my stomach before the tests.\",\n",
    "            \"Things quickly went south when my phone got hacked.\"]\n",
    "\n",
    "\n",
    "# model_name = \"/home/ubuntu/En_to_Ko/ke-t5-base-finetuned-en-to-ko/checkpoint-17850\"\n",
    "\n",
    "model_name = CFG.inference_model_name\n",
    "result_path = \"./results/\"\n",
    "\n",
    "tokenizer = AutoTokenizer.from_pretrained(result_path)\n",
    "model = AutoModelForSeq2SeqLM.from_pretrained(result_path)"
   ]
  },
  {
   "cell_type": "code",
   "execution_count": 7,
   "id": "1fa7ea8b-80d0-4970-b155-491358d6119d",
   "metadata": {
    "tags": []
   },
   "outputs": [
    {
     "name": "stderr",
     "output_type": "stream",
     "text": [
      "/home/013907062/.conda/envs/wmt_infer/lib/python3.10/site-packages/transformers/tokenization_utils_base.py:2436: UserWarning: `max_length` is ignored when `padding`=`True` and there is no truncation strategy. To pad to max length, use `padding='max_length'`.\n",
      "  warnings.warn(\n"
     ]
    },
    {
     "name": "stdout",
     "output_type": "stream",
     "text": [
      "['저는 그것을 잘 다룰 것입니다.', '저는 가슴이 설레요.', '콘서트가 시작되었을 때 관중들은 열광했습니다.', '나는 시험 전에 기분이 좋았어.', '내 전화기가 해킹됐을 때 상황이 빠르게 악화되었습니다.']\n"
     ]
    }
   ],
   "source": [
    "translated = model.generate(\n",
    "    **tokenizer(src_text, return_tensors=\"pt\", padding=True, max_length=CFG.max_token_length,),\n",
    "    max_length=CFG.max_token_length,\n",
    "    num_beams=CFG.num_beams,\n",
    "    repetition_penalty=CFG.repetition_penalty,\n",
    "    no_repeat_ngram_size=CFG.no_repeat_ngram_size,\n",
    "    num_return_sequences=CFG.num_return_sequences,\n",
    ")\n",
    "\n",
    "print([tokenizer.decode(t, skip_special_tokens=True) for t in translated])"
   ]
  },
  {
   "cell_type": "code",
   "execution_count": 10,
   "id": "dcd38df5-a3b9-41d1-9fff-f2acb8e6ad4c",
   "metadata": {
    "tags": []
   },
   "outputs": [],
   "source": [
    "src_text = [\"The man had egg on his face today as well as yesterday.\",\n",
    "           \"He started new business one year ago. As I know it, he has made a lot of dough.\",\n",
    "           \"There's something odd about him, but I can't quite put my finger on it.\",\n",
    "           \" She didn’t know what was causing the problem, but she finally put her finger on it.\"]"
   ]
  },
  {
   "cell_type": "code",
   "execution_count": 11,
   "id": "08fc73fe-99e2-4c68-bca7-985a3353ac45",
   "metadata": {
    "tags": []
   },
   "outputs": [
    {
     "name": "stdout",
     "output_type": "stream",
     "text": [
      "['그 남자는 어제뿐만 아니라 오늘에도 얼굴에 멍이 들었다.', '그는 1년 전에 새로운 사업을 시작했습니다. 내가 알고 있는 바에 따르면, 그는 많은 돈을 벌었습니다.', '그에게 이상한 점이 있지만, 저는 그 점에 대해 잘 알 수 없습니다.', '그녀는 문제가 무엇인지 몰랐지만, 마침내 그 문제에 손을 들었다.']\n"
     ]
    }
   ],
   "source": [
    "translated = model.generate(\n",
    "    **tokenizer(src_text, return_tensors=\"pt\", padding=True, max_length=CFG.max_token_length,),\n",
    "    max_length=CFG.max_token_length,\n",
    "    num_beams=CFG.num_beams,\n",
    "    repetition_penalty=CFG.repetition_penalty,\n",
    "    no_repeat_ngram_size=CFG.no_repeat_ngram_size,\n",
    "    num_return_sequences=CFG.num_return_sequences,\n",
    ")\n",
    "\n",
    "print([tokenizer.decode(t, skip_special_tokens=True) for t in translated])"
   ]
  },
  {
   "cell_type": "code",
   "execution_count": null,
   "id": "fc22ed12-c153-4ec0-98f7-9a0670efd498",
   "metadata": {},
   "outputs": [],
   "source": []
  }
 ],
 "metadata": {
  "kernelspec": {
   "display_name": "Python 3 (ipykernel)",
   "language": "python",
   "name": "python3"
  },
  "language_info": {
   "codemirror_mode": {
    "name": "ipython",
    "version": 3
   },
   "file_extension": ".py",
   "mimetype": "text/x-python",
   "name": "python",
   "nbconvert_exporter": "python",
   "pygments_lexer": "ipython3",
   "version": "3.10.11"
  }
 },
 "nbformat": 4,
 "nbformat_minor": 5
}
